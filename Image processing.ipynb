{
 "cells": [
  {
   "cell_type": "code",
   "execution_count": 2,
   "id": "a1eff64c",
   "metadata": {},
   "outputs": [
    {
     "ename": "ModuleNotFoundError",
     "evalue": "No module named 'cv2'",
     "output_type": "error",
     "traceback": [
      "\u001b[1;31m---------------------------------------------------------------------------\u001b[0m",
      "\u001b[1;31mModuleNotFoundError\u001b[0m                       Traceback (most recent call last)",
      "Cell \u001b[1;32mIn[2], line 1\u001b[0m\n\u001b[1;32m----> 1\u001b[0m \u001b[38;5;28;01mimport\u001b[39;00m \u001b[38;5;21;01mcv2\u001b[39;00m \u001b[38;5;28;01mas\u001b[39;00m \u001b[38;5;21;01mcv\u001b[39;00m\n\u001b[0;32m      2\u001b[0m \u001b[38;5;28;01mimport\u001b[39;00m \u001b[38;5;21;01msys\u001b[39;00m\n\u001b[0;32m      4\u001b[0m img \u001b[38;5;241m=\u001b[39m cv\u001b[38;5;241m.\u001b[39mimread(\u001b[38;5;124m'\u001b[39m\u001b[38;5;124msoccer.jpg\u001b[39m\u001b[38;5;124m'\u001b[39m)\n",
      "\u001b[1;31mModuleNotFoundError\u001b[0m: No module named 'cv2'"
     ]
    }
   ],
   "source": [
    "import cv2 as cv\n",
    "import sys\n",
    "\n",
    "img = cv.imread('soccer.jpg')\n",
    "\n",
    "if img is None:\n",
    "    sys.exit('파일을 찾을 수 없습니다')\n",
    "    \n",
    "cv.imshow('original_RGB',img)\n",
    "cv.imshow('Uper left half',img[0:img.shape[0]//2,0:img.shape[1]//2,:])\n",
    "cv.imshow('Center half',img[img.shape[0]//4:3*img.shape[0]//4,img.\n",
    "         shape[1]//4:3*img.shape[1]//4,:])\n",
    "\n",
    "cv.imshow('R channel',img[:,:,2])\n",
    "cv.imshow('G channel',img[:,:,1])\n",
    "cv.imshow('B channel',img[:,:,0])\n",
    "\n",
    "cv.waitkey()\n",
    "cv.destroyAllWindows()"
   ]
  },
  {
   "cell_type": "code",
   "execution_count": 4,
   "id": "67629596",
   "metadata": {},
   "outputs": [
    {
     "ename": "ModuleNotFoundError",
     "evalue": "No module named 'cv2'",
     "output_type": "error",
     "traceback": [
      "\u001b[1;31m---------------------------------------------------------------------------\u001b[0m",
      "\u001b[1;31mModuleNotFoundError\u001b[0m                       Traceback (most recent call last)",
      "Cell \u001b[1;32mIn[4], line 1\u001b[0m\n\u001b[1;32m----> 1\u001b[0m \u001b[38;5;28;01mimport\u001b[39;00m \u001b[38;5;21;01mcv2\u001b[39;00m \u001b[38;5;28;01mas\u001b[39;00m \u001b[38;5;21;01mcv\u001b[39;00m\n\u001b[0;32m      2\u001b[0m \u001b[38;5;28;01mimport\u001b[39;00m \u001b[38;5;21;01mnumpy\u001b[39;00m \u001b[38;5;28;01mas\u001b[39;00m \u001b[38;5;21;01mnp\u001b[39;00m\n\u001b[0;32m      3\u001b[0m \u001b[38;5;28;01mimport\u001b[39;00m \u001b[38;5;21;01mmatplotlib\u001b[39;00m\u001b[38;5;21;01m.\u001b[39;00m\u001b[38;5;21;01mpyplot\u001b[39;00m \u001b[38;5;28;01mas\u001b[39;00m \u001b[38;5;21;01mplt\u001b[39;00m\n",
      "\u001b[1;31mModuleNotFoundError\u001b[0m: No module named 'cv2'"
     ]
    }
   ],
   "source": [
    "import cv2 as cv\n",
    "import numpy as np\n",
    "import matplotlib.pyplot as plt\n",
    "\n",
    "img=cv.imread('JohnHancocksSignature.png',cv.IMREAD_UNCHANGED)\n",
    "\n",
    "t, bin_img=cv.threshold(img[:,:,3],0,255,cv.THRESH_BINARY+cv.THRESH_OTSU)\n",
    "plt.imshow(bin_img,cmap='gray'),plt.xticks([]),plt.ythicks([])\n",
    "plt.show()\n",
    "\n",
    "b=bin_img[bin_img.shape[0]//2:bin_img.shape[0],0:bin_img.shape[0]//2+1]\n",
    "plt.imshow(b,cmap='gray'),plt.xticks([]),plt.yticks([])\n",
    "plt.show()\n",
    "\n",
    "se.np.unit8([[0,0,1,0,0],\n",
    "            [0,1,1,1,0],\n",
    "            [1,1,1,1,1],\n",
    "            [0,1,1,1,0],\n",
    "            [0,0,1,0,0]])\n",
    "\n",
    "b_dilation=cv.dilate(b,se,iterations=1)\n",
    "plt.imshow(b_dilation,cmap='gray'),plt.xticks([]),plt.yticks([])\n",
    "plt.show()\n",
    "\n",
    "b_erosion=cv.erode(b,se,iterations=1)\n",
    "plt.imshow(b_erosion,cmap='gray'),plt.xticks([]),plt.yticks([])\n",
    "plt.show()\n",
    "\n",
    "b_closing=cv.erode(cv.dilate(b,se,iterations=1),se,iterations=1)\n",
    "plt.imshow(b_closing,cmap='gray'),plt.xticks([]),plt.yticks([])\n",
    "plt.show()"
   ]
  },
  {
   "cell_type": "code",
   "execution_count": 5,
   "id": "7ad4bddc",
   "metadata": {},
   "outputs": [
    {
     "ename": "ModuleNotFoundError",
     "evalue": "No module named 'cv2'",
     "output_type": "error",
     "traceback": [
      "\u001b[1;31m---------------------------------------------------------------------------\u001b[0m",
      "\u001b[1;31mModuleNotFoundError\u001b[0m                       Traceback (most recent call last)",
      "Cell \u001b[1;32mIn[5], line 1\u001b[0m\n\u001b[1;32m----> 1\u001b[0m \u001b[38;5;28;01mimport\u001b[39;00m \u001b[38;5;21;01mcv2\u001b[39;00m \u001b[38;5;28;01mas\u001b[39;00m \u001b[38;5;21;01mcv\u001b[39;00m\n\u001b[0;32m      2\u001b[0m \u001b[38;5;28;01mimport\u001b[39;00m \u001b[38;5;21;01mmatplotlib\u001b[39;00m\u001b[38;5;21;01m.\u001b[39;00m\u001b[38;5;21;01mpyplot\u001b[39;00m \u001b[38;5;28;01mas\u001b[39;00m \u001b[38;5;21;01mplt\u001b[39;00m\n\u001b[0;32m      4\u001b[0m img\u001b[38;5;241m=\u001b[39mcv\u001b[38;5;241m.\u001b[39mimread(\u001b[38;5;124m'\u001b[39m\u001b[38;5;124mmistyroad.jpg\u001b[39m\u001b[38;5;124m'\u001b[39m)\n",
      "\u001b[1;31mModuleNotFoundError\u001b[0m: No module named 'cv2'"
     ]
    }
   ],
   "source": [
    "import cv2 as cv\n",
    "import matplotlib.pyplot as plt\n",
    "\n",
    "img=cv.imread('mistyroad.jpg')\n",
    "\n",
    "gray=cv.cvtColor(img,cv.COLOR_BGR2GRAY)\n",
    "plt.imshow(gray,cmap='gray'),plt.xticks([]), plt.yticks([]), plt.show()\n",
    "\n",
    "h=cv.calcHist([gray],[0],None,[256],[0,256])\n",
    "plt.plot(h,color='r',linewidth=1),plt.show()\n",
    "\n",
    "equal=cv.equalizeHist(gray)\n",
    "plt.imshow(equal,cmap='gray'),plt.xticks([]),plt.yticks([]),plt.show()\n",
    "\n",
    "h=cv.calcHist([equal],[0],None,[256],[0,256])\n",
    "plt.plot(h,color='r',linewidth=1),plt.show()"
   ]
  },
  {
   "cell_type": "code",
   "execution_count": 6,
   "id": "b35924db",
   "metadata": {},
   "outputs": [
    {
     "ename": "ModuleNotFoundError",
     "evalue": "No module named 'cv2'",
     "output_type": "error",
     "traceback": [
      "\u001b[1;31m---------------------------------------------------------------------------\u001b[0m",
      "\u001b[1;31mModuleNotFoundError\u001b[0m                       Traceback (most recent call last)",
      "Cell \u001b[1;32mIn[6], line 1\u001b[0m\n\u001b[1;32m----> 1\u001b[0m \u001b[38;5;28;01mimport\u001b[39;00m \u001b[38;5;21;01mcv2\u001b[39;00m \u001b[38;5;28;01mas\u001b[39;00m \u001b[38;5;21;01mcv\u001b[39;00m\n\u001b[0;32m      3\u001b[0m img\u001b[38;5;241m=\u001b[39mcv\u001b[38;5;241m.\u001b[39mimread(\u001b[38;5;124m'\u001b[39m\u001b[38;5;124msoccer.jpg\u001b[39m\u001b[38;5;124m'\u001b[39m)\n\u001b[0;32m      4\u001b[0m gray\u001b[38;5;241m=\u001b[39mcv\u001b[38;5;241m.\u001b[39mcvtColor(img,cv\u001b[38;5;241m.\u001b[39mCOLOR_BGR2GRAY)\n",
      "\u001b[1;31mModuleNotFoundError\u001b[0m: No module named 'cv2'"
     ]
    }
   ],
   "source": [
    "import cv2 as cv\n",
    "\n",
    "img=cv.imread('soccer.jpg')\n",
    "gray=cv.cvtColor(img,cv.COLOR_BGR2GRAY)\n",
    "\n",
    "grad_x=cv.Sobel(gray,cv.CV_32F,1,0,ksize=3)\n",
    "grad_y=cv.Sobel(gray,cv.CV_32F,0,1,ksize=3)\n",
    "\n",
    "sobel_x=cv.convertScaleAbs(grad_x)\n",
    "sobel_y=cv.convertScaleAbs(grad_y)\n",
    "\n",
    "edge_strength=cv.addWeighted(sobel_x,0.5,sobel_y,0.5,0)\n",
    "\n",
    "cv.imshow('Original',gray)\n",
    "cv.imshow('soblex',sobel_x)\n",
    "cv.imshow('sobely',sobel_y)\n",
    "cv.imshow('edge strength', edge_strength)\n",
    "\n",
    "cv.waitkey()\n",
    "cv.destroyAllWindows()"
   ]
  },
  {
   "cell_type": "code",
   "execution_count": 7,
   "id": "22512901",
   "metadata": {},
   "outputs": [
    {
     "ename": "ModuleNotFoundError",
     "evalue": "No module named 'cv2'",
     "output_type": "error",
     "traceback": [
      "\u001b[1;31m---------------------------------------------------------------------------\u001b[0m",
      "\u001b[1;31mModuleNotFoundError\u001b[0m                       Traceback (most recent call last)",
      "Cell \u001b[1;32mIn[7], line 1\u001b[0m\n\u001b[1;32m----> 1\u001b[0m \u001b[38;5;28;01mimport\u001b[39;00m \u001b[38;5;21;01mcv2\u001b[39;00m \u001b[38;5;28;01mas\u001b[39;00m \u001b[38;5;21;01mcv\u001b[39;00m\n\u001b[0;32m      3\u001b[0m img\u001b[38;5;241m=\u001b[39mcv\u001b[38;5;241m.\u001b[39mimread(\u001b[38;5;124m'\u001b[39m\u001b[38;5;124mapples.jpg\u001b[39m\u001b[38;5;124m'\u001b[39m)\n\u001b[0;32m      4\u001b[0m gray\u001b[38;5;241m=\u001b[39mcv\u001b[38;5;241m.\u001b[39mcvtColor(img,cv\u001b[38;5;241m.\u001b[39mCOLOR_BGR2GRAY)\n",
      "\u001b[1;31mModuleNotFoundError\u001b[0m: No module named 'cv2'"
     ]
    }
   ],
   "source": [
    "import cv2 as cv\n",
    "\n",
    "img=cv.imread('apples.jpg')\n",
    "gray=cv.cvtColor(img,cv.COLOR_BGR2GRAY)\n",
    "\n",
    "apples=cv.HoughCircles(gray,cv.HOUGH_GRADIENT,1,200,param1=150,param2=20,\n",
    "                      minRadius=50,maxRadius=120)\n",
    "\n",
    "for i in apples[0]:\n",
    "    cv.circle(img,(int(i[0]),int(i[1])),int(i[2]),(255,0,0),2)\n",
    "    \n",
    "cv.imshow('Apple detection', img)\n",
    "\n",
    "cv.waitkey()\n",
    "cv.destroyAllWindow()"
   ]
  },
  {
   "cell_type": "code",
   "execution_count": 8,
   "id": "fad12ada",
   "metadata": {},
   "outputs": [
    {
     "ename": "ModuleNotFoundError",
     "evalue": "No module named 'cv2'",
     "output_type": "error",
     "traceback": [
      "\u001b[1;31m---------------------------------------------------------------------------\u001b[0m",
      "\u001b[1;31mModuleNotFoundError\u001b[0m                       Traceback (most recent call last)",
      "Cell \u001b[1;32mIn[8], line 3\u001b[0m\n\u001b[0;32m      1\u001b[0m \u001b[38;5;28;01mimport\u001b[39;00m \u001b[38;5;21;01mskimage\u001b[39;00m\n\u001b[0;32m      2\u001b[0m \u001b[38;5;28;01mimport\u001b[39;00m \u001b[38;5;21;01mnumpy\u001b[39;00m \u001b[38;5;28;01mas\u001b[39;00m \u001b[38;5;21;01mnp\u001b[39;00m\n\u001b[1;32m----> 3\u001b[0m \u001b[38;5;28;01mimport\u001b[39;00m \u001b[38;5;21;01mcv2\u001b[39;00m \u001b[38;5;28;01mas\u001b[39;00m \u001b[38;5;21;01mcv\u001b[39;00m\n\u001b[0;32m      4\u001b[0m \u001b[38;5;28;01mimport\u001b[39;00m \u001b[38;5;21;01mtime\u001b[39;00m\n\u001b[0;32m      6\u001b[0m coffee\u001b[38;5;241m=\u001b[39mskimage\u001b[38;5;241m.\u001b[39mdata\u001b[38;5;241m.\u001b[39mcoffee()\n",
      "\u001b[1;31mModuleNotFoundError\u001b[0m: No module named 'cv2'"
     ]
    }
   ],
   "source": [
    "import skimage\n",
    "import numpy as np\n",
    "import cv2 as cv\n",
    "import time\n",
    "\n",
    "coffee=skimage.data.coffee()\n",
    "\n",
    "start=time.time()\n",
    "slic=skimage.segmentation.slic(coffee,compactness=20,n_segments=600,start_label=1)\n",
    "g=skimage.future.graph.rag_mean_color(coffee,slic,mode='similarity')\n",
    "ncut=skimage.future.graph.cut_normalized(slic,g)\n",
    "print(coffee.shape,'Coffee 영상을 분할하는 데', time.time()-start, '초 소요')\n",
    "\n",
    "marking=skimage.segmentation.mark_boundaries(coffee,ncut)\n",
    "ncut_coffee=np.unit8(marking*255.0)\n",
    "\n",
    "cv.imshow('Normalized cut', cv.cvtColor(ncut_coffee,cv.COLOR_RGB2BGR))\n",
    "\n",
    "cv.waitKey()\n",
    "cv.destroyAllWindows()"
   ]
  },
  {
   "cell_type": "code",
   "execution_count": 9,
   "id": "5f512e2d",
   "metadata": {},
   "outputs": [
    {
     "ename": "ModuleNotFoundError",
     "evalue": "No module named 'cv2'",
     "output_type": "error",
     "traceback": [
      "\u001b[1;31m---------------------------------------------------------------------------\u001b[0m",
      "\u001b[1;31mModuleNotFoundError\u001b[0m                       Traceback (most recent call last)",
      "Cell \u001b[1;32mIn[9], line 1\u001b[0m\n\u001b[1;32m----> 1\u001b[0m \u001b[38;5;28;01mimport\u001b[39;00m \u001b[38;5;21;01mcv2\u001b[39;00m \u001b[38;5;28;01mas\u001b[39;00m \u001b[38;5;21;01mcv\u001b[39;00m\n\u001b[0;32m      3\u001b[0m img\u001b[38;5;241m=\u001b[39mcv\u001b[38;5;241m.\u001b[39mimread(\u001b[38;5;124m'\u001b[39m\u001b[38;5;124mmot_color70.jpg\u001b[39m\u001b[38;5;124m'\u001b[39m)\n\u001b[0;32m      4\u001b[0m gray\u001b[38;5;241m=\u001b[39mcv\u001b[38;5;241m.\u001b[39mcvtColor(img,cv\u001b[38;5;241m.\u001b[39mCOLOR_BGR2GRAY)\n",
      "\u001b[1;31mModuleNotFoundError\u001b[0m: No module named 'cv2'"
     ]
    }
   ],
   "source": [
    "import cv2 as cv\n",
    "\n",
    "img=cv.imread('mot_color70.jpg')\n",
    "gray=cv.cvtColor(img,cv.COLOR_BGR2GRAY)\n",
    "\n",
    "sift=cv.SIFT_create()\n",
    "kp,des=sift.detectAndCompute(gray,None)\n",
    "\n",
    "gray=cv.drawKeypoints(gray,kp,None,flags=cv.DRAW_MATCHES_FLAGS_DRAW_RICH_KEYPOINTS)\n",
    "cv.imshow('sift',gray)\n",
    "\n",
    "k=cv.waitKey()\n",
    "cv.destroyAllWindows()"
   ]
  },
  {
   "cell_type": "code",
   "execution_count": null,
   "id": "90de6fb4",
   "metadata": {},
   "outputs": [],
   "source": []
  }
 ],
 "metadata": {
  "kernelspec": {
   "display_name": "Python 3 (ipykernel)",
   "language": "python",
   "name": "python3"
  },
  "language_info": {
   "codemirror_mode": {
    "name": "ipython",
    "version": 3
   },
   "file_extension": ".py",
   "mimetype": "text/x-python",
   "name": "python",
   "nbconvert_exporter": "python",
   "pygments_lexer": "ipython3",
   "version": "3.10.9"
  }
 },
 "nbformat": 4,
 "nbformat_minor": 5
}
